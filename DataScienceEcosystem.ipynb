{
 "cells": [
  {
   "cell_type": "markdown",
   "id": "ad18d49b-47a0-476e-b896-8d293136be7f",
   "metadata": {},
   "source": [
    "# Data Science Tools and Ecosystem"
   ]
  },
  {
   "cell_type": "markdown",
   "id": "f7676592-a41e-470a-883b-c4a3ee1df245",
   "metadata": {},
   "source": [
    "In this notebook, Data Science Tools and Ecosystem are summarized."
   ]
  },
  {
   "cell_type": "markdown",
   "id": "282c2e96-5d3c-49db-a42d-e1502da74c20",
   "metadata": {},
   "source": [
    "Some of the popular languages that Data Scientists use are:\n",
    "1. Java\n",
    "2. Python\n",
    "3. R"
   ]
  },
  {
   "cell_type": "markdown",
   "id": "be4f3e5d-1967-49a1-bf11-90b4a801a05d",
   "metadata": {},
   "source": [
    "Some of the commonly used libraries used by Data Scientists include:\n",
    "1. NumPy\n",
    "2. Pandas\n",
    "3. Matplotlib\n",
    "4. Scikit-Learn\n",
    "5. TensorFlow/PyTorch"
   ]
  },
  {
   "cell_type": "markdown",
   "id": "41297c56-13e8-443c-bc48-ad1a4d73d2f0",
   "metadata": {},
   "source": [
    "| Data Science Tools |\n",
    "| ------------------- |\n",
    "| Jupyter Notebook |\n",
    "| R Studio |\n",
    "| VS-code |"
   ]
  },
  {
   "cell_type": "markdown",
   "id": "e7bd1f1d-12fa-4243-90b1-8952d9537244",
   "metadata": {},
   "source": [
    "### Below are a few examples of evaluating arithmetic expressions in Python."
   ]
  },
  {
   "cell_type": "markdown",
   "id": "f1d1281c-0b81-4fb6-ba99-471b8dd6c0b2",
   "metadata": {},
   "source": [
    "This a simple arithmetic expression to multiply then add integers."
   ]
  },
  {
   "cell_type": "code",
   "execution_count": 11,
   "id": "5f2e6ca6-a674-47da-9b16-0a7b76e7f7f9",
   "metadata": {},
   "outputs": [
    {
     "name": "stdout",
     "output_type": "stream",
     "text": [
      "17\n"
     ]
    }
   ],
   "source": [
    "print((3*4)+5)"
   ]
  },
  {
   "cell_type": "markdown",
   "id": "16d69ca0-8717-4c44-b678-e3286176c809",
   "metadata": {},
   "source": [
    "This will convert 200 minutes to hours by dividing by 60."
   ]
  },
  {
   "cell_type": "code",
   "execution_count": 15,
   "id": "d51321c7-47d1-4a21-838b-ee38d30d46bf",
   "metadata": {},
   "outputs": [
    {
     "name": "stdout",
     "output_type": "stream",
     "text": [
      "3\n"
     ]
    }
   ],
   "source": [
    "minutes = 200\n",
    "hours = minutes/60\n",
    "print(int(hours))"
   ]
  },
  {
   "cell_type": "markdown",
   "id": "997e73a3-49be-483a-afc6-343eab235a1c",
   "metadata": {},
   "source": [
    "### Objectives"
   ]
  },
  {
   "cell_type": "markdown",
   "id": "f64d7561-0d0a-4776-ac6c-17dfbab387cf",
   "metadata": {},
   "source": [
    "- List popular languages for Data Science.\n",
    "- List popular libraries for Data Science.\n",
    "- Table with the 3 most popular Data Science Tools.\n",
    "- Some examples of arythmetic expressions using Python."
   ]
  },
  {
   "cell_type": "markdown",
   "id": "18017991-0ae7-4c25-a0a2-d99434f2dbe3",
   "metadata": {},
   "source": [
    "## Author\n",
    "Cristopher"
   ]
  }
 ],
 "metadata": {
  "kernelspec": {
   "display_name": "Python [conda env:base] *",
   "language": "python",
   "name": "conda-base-py"
  },
  "language_info": {
   "codemirror_mode": {
    "name": "ipython",
    "version": 3
   },
   "file_extension": ".py",
   "mimetype": "text/x-python",
   "name": "python",
   "nbconvert_exporter": "python",
   "pygments_lexer": "ipython3",
   "version": "3.12.7"
  }
 },
 "nbformat": 4,
 "nbformat_minor": 5
}
